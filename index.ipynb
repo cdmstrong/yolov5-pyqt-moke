{
 "cells": [
  {
   "cell_type": "code",
   "execution_count": 2,
   "metadata": {},
   "outputs": [
    {
     "name": "stdout",
     "output_type": "stream",
     "text": [
      "Looking in indexes: http://mirrors.aliyun.com/pypi/simple/\n",
      "Requirement already satisfied: matplotlib>=3.2.2 in c:\\users\\4399-5080\\appdata\\roaming\\python\\python37\\site-packages (from -r requirements.txt (line 4)) (3.5.2)\n",
      "Requirement already satisfied: numpy>=1.18.5 in c:\\users\\4399-5080\\appdata\\roaming\\python\\python37\\site-packages (from -r requirements.txt (line 5)) (1.21.6)\n",
      "Requirement already satisfied: opencv-python>=4.1.2 in c:\\users\\4399-5080\\appdata\\roaming\\python\\python37\\site-packages (from -r requirements.txt (line 6)) (4.5.5.62)\n",
      "Requirement already satisfied: Pillow in c:\\users\\4399-5080\\appdata\\roaming\\python\\python37\\site-packages (from -r requirements.txt (line 7)) (9.1.0)\n",
      "Requirement already satisfied: PyYAML>=5.3.1 in d:\\soft\\anaconda3\\envs\\network\\lib\\site-packages (from -r requirements.txt (line 8)) (6.0)\n",
      "Requirement already satisfied: scipy>=1.4.1 in c:\\users\\4399-5080\\appdata\\roaming\\python\\python37\\site-packages (from -r requirements.txt (line 9)) (1.7.3)\n",
      "Requirement already satisfied: torch>=1.7.0 in d:\\soft\\anaconda3\\envs\\network\\lib\\site-packages (from -r requirements.txt (line 10)) (1.11.0)\n",
      "Requirement already satisfied: torchvision>=0.8.1 in d:\\soft\\anaconda3\\envs\\network\\lib\\site-packages (from -r requirements.txt (line 11)) (0.12.0)\n",
      "Requirement already satisfied: tqdm>=4.41.0 in d:\\soft\\anaconda3\\envs\\network\\lib\\site-packages (from -r requirements.txt (line 12)) (4.64.0)\n",
      "Requirement already satisfied: tensorboard>=2.4.1 in c:\\users\\4399-5080\\appdata\\roaming\\python\\python37\\site-packages (from -r requirements.txt (line 15)) (2.6.0)\n",
      "Requirement already satisfied: seaborn>=0.11.0 in d:\\soft\\anaconda3\\envs\\network\\lib\\site-packages (from -r requirements.txt (line 19)) (0.11.2)\n",
      "Requirement already satisfied: pandas in c:\\users\\4399-5080\\appdata\\roaming\\python\\python37\\site-packages (from -r requirements.txt (line 20)) (1.3.5)\n",
      "Requirement already satisfied: thop in d:\\soft\\anaconda3\\envs\\network\\lib\\site-packages (from -r requirements.txt (line 28)) (0.1.0.post2207010342)\n",
      "Collecting pycocotools>=2.0\n",
      "  Downloading http://mirrors.aliyun.com/pypi/packages/75/5c/ac61ea715d7a89ecc31c090753bde28810238225ca8b71778dfe3e6a68bc/pycocotools-2.0.4.tar.gz (106 kB)\n",
      "  Installing build dependencies: started\n",
      "  Installing build dependencies: still running...\n",
      "  Installing build dependencies: finished with status 'done'\n",
      "  Getting requirements to build wheel: started\n",
      "  Getting requirements to build wheel: finished with status 'done'\n",
      "    Preparing wheel metadata: started\n",
      "    Preparing wheel metadata: finished with status 'done'\n",
      "Requirement already satisfied: cycler>=0.10 in c:\\users\\4399-5080\\appdata\\roaming\\python\\python37\\site-packages (from matplotlib>=3.2.2->-r requirements.txt (line 4)) (0.11.0)\n",
      "Requirement already satisfied: fonttools>=4.22.0 in c:\\users\\4399-5080\\appdata\\roaming\\python\\python37\\site-packages (from matplotlib>=3.2.2->-r requirements.txt (line 4)) (4.33.3)\n",
      "Requirement already satisfied: packaging>=20.0 in d:\\soft\\anaconda3\\envs\\network\\lib\\site-packages (from matplotlib>=3.2.2->-r requirements.txt (line 4)) (21.3)\n",
      "Requirement already satisfied: kiwisolver>=1.0.1 in c:\\users\\4399-5080\\appdata\\roaming\\python\\python37\\site-packages (from matplotlib>=3.2.2->-r requirements.txt (line 4)) (1.4.2)\n",
      "Requirement already satisfied: pyparsing>=2.2.1 in d:\\soft\\anaconda3\\envs\\network\\lib\\site-packages (from matplotlib>=3.2.2->-r requirements.txt (line 4)) (3.0.4)\n",
      "Requirement already satisfied: python-dateutil>=2.7 in d:\\soft\\anaconda3\\envs\\network\\lib\\site-packages (from matplotlib>=3.2.2->-r requirements.txt (line 4)) (2.8.2)\n",
      "Requirement already satisfied: typing-extensions in d:\\soft\\anaconda3\\envs\\network\\lib\\site-packages (from torch>=1.7.0->-r requirements.txt (line 10)) (4.1.1)\n",
      "Requirement already satisfied: requests in d:\\soft\\anaconda3\\envs\\network\\lib\\site-packages (from torchvision>=0.8.1->-r requirements.txt (line 11)) (2.27.1)\n",
      "Requirement already satisfied: colorama in d:\\soft\\anaconda3\\envs\\network\\lib\\site-packages (from tqdm>=4.41.0->-r requirements.txt (line 12)) (0.4.4)\n",
      "Requirement already satisfied: wheel>=0.26 in d:\\soft\\anaconda3\\envs\\network\\lib\\site-packages (from tensorboard>=2.4.1->-r requirements.txt (line 15)) (0.37.1)\n",
      "Requirement already satisfied: protobuf>=3.6.0 in c:\\users\\4399-5080\\appdata\\roaming\\python\\python37\\site-packages (from tensorboard>=2.4.1->-r requirements.txt (line 15)) (3.19.4)\n",
      "Requirement already satisfied: setuptools>=41.0.0 in d:\\soft\\anaconda3\\envs\\network\\lib\\site-packages (from tensorboard>=2.4.1->-r requirements.txt (line 15)) (61.2.0)\n",
      "Requirement already satisfied: google-auth-oauthlib<0.5,>=0.4.1 in c:\\users\\4399-5080\\appdata\\roaming\\python\\python37\\site-packages (from tensorboard>=2.4.1->-r requirements.txt (line 15)) (0.4.6)\n",
      "Requirement already satisfied: absl-py>=0.4 in c:\\users\\4399-5080\\appdata\\roaming\\python\\python37\\site-packages (from tensorboard>=2.4.1->-r requirements.txt (line 15)) (0.15.0)\n",
      "Requirement already satisfied: google-auth<2,>=1.6.3 in c:\\users\\4399-5080\\appdata\\roaming\\python\\python37\\site-packages (from tensorboard>=2.4.1->-r requirements.txt (line 15)) (1.35.0)\n",
      "Requirement already satisfied: werkzeug>=0.11.15 in d:\\soft\\anaconda3\\envs\\network\\lib\\site-packages (from tensorboard>=2.4.1->-r requirements.txt (line 15)) (2.0.3)\n",
      "Requirement already satisfied: tensorboard-data-server<0.7.0,>=0.6.0 in c:\\users\\4399-5080\\appdata\\roaming\\python\\python37\\site-packages (from tensorboard>=2.4.1->-r requirements.txt (line 15)) (0.6.1)\n",
      "Requirement already satisfied: tensorboard-plugin-wit>=1.6.0 in c:\\users\\4399-5080\\appdata\\roaming\\python\\python37\\site-packages (from tensorboard>=2.4.1->-r requirements.txt (line 15)) (1.8.1)\n",
      "Requirement already satisfied: markdown>=2.6.8 in c:\\users\\4399-5080\\appdata\\roaming\\python\\python37\\site-packages (from tensorboard>=2.4.1->-r requirements.txt (line 15)) (3.3.6)\n",
      "Requirement already satisfied: grpcio>=1.24.3 in c:\\users\\4399-5080\\appdata\\roaming\\python\\python37\\site-packages (from tensorboard>=2.4.1->-r requirements.txt (line 15)) (1.44.0)\n",
      "Requirement already satisfied: pytz>=2017.3 in c:\\users\\4399-5080\\appdata\\roaming\\python\\python37\\site-packages (from pandas->-r requirements.txt (line 20)) (2022.1)\n",
      "Requirement already satisfied: six in c:\\users\\4399-5080\\appdata\\roaming\\python\\python37\\site-packages (from absl-py>=0.4->tensorboard>=2.4.1->-r requirements.txt (line 15)) (1.15.0)\n",
      "Requirement already satisfied: rsa<5,>=3.1.4 in c:\\users\\4399-5080\\appdata\\roaming\\python\\python37\\site-packages (from google-auth<2,>=1.6.3->tensorboard>=2.4.1->-r requirements.txt (line 15)) (4.8)\n",
      "Requirement already satisfied: pyasn1-modules>=0.2.1 in d:\\soft\\anaconda3\\envs\\network\\lib\\site-packages (from google-auth<2,>=1.6.3->tensorboard>=2.4.1->-r requirements.txt (line 15)) (0.2.8)\n",
      "Requirement already satisfied: cachetools<5.0,>=2.0.0 in c:\\users\\4399-5080\\appdata\\roaming\\python\\python37\\site-packages (from google-auth<2,>=1.6.3->tensorboard>=2.4.1->-r requirements.txt (line 15)) (4.2.4)\n",
      "Requirement already satisfied: requests-oauthlib>=0.7.0 in c:\\users\\4399-5080\\appdata\\roaming\\python\\python37\\site-packages (from google-auth-oauthlib<0.5,>=0.4.1->tensorboard>=2.4.1->-r requirements.txt (line 15)) (1.3.1)\n",
      "Requirement already satisfied: importlib-metadata>=4.4 in d:\\soft\\anaconda3\\envs\\network\\lib\\site-packages (from markdown>=2.6.8->tensorboard>=2.4.1->-r requirements.txt (line 15)) (4.11.3)\n",
      "Requirement already satisfied: zipp>=0.5 in d:\\soft\\anaconda3\\envs\\network\\lib\\site-packages (from importlib-metadata>=4.4->markdown>=2.6.8->tensorboard>=2.4.1->-r requirements.txt (line 15)) (3.8.0)\n",
      "Requirement already satisfied: pyasn1<0.5.0,>=0.4.6 in d:\\soft\\anaconda3\\envs\\network\\lib\\site-packages (from pyasn1-modules>=0.2.1->google-auth<2,>=1.6.3->tensorboard>=2.4.1->-r requirements.txt (line 15)) (0.4.8)\n",
      "Requirement already satisfied: urllib3<1.27,>=1.21.1 in d:\\soft\\anaconda3\\envs\\network\\lib\\site-packages (from requests->torchvision>=0.8.1->-r requirements.txt (line 11)) (1.26.9)\n",
      "Requirement already satisfied: idna<4,>=2.5 in d:\\soft\\anaconda3\\envs\\network\\lib\\site-packages (from requests->torchvision>=0.8.1->-r requirements.txt (line 11)) (3.3)\n",
      "Requirement already satisfied: certifi>=2017.4.17 in d:\\soft\\anaconda3\\envs\\network\\lib\\site-packages (from requests->torchvision>=0.8.1->-r requirements.txt (line 11)) (2022.6.15)\n",
      "Requirement already satisfied: charset-normalizer~=2.0.0 in d:\\soft\\anaconda3\\envs\\network\\lib\\site-packages (from requests->torchvision>=0.8.1->-r requirements.txt (line 11)) (2.0.4)\n",
      "Requirement already satisfied: oauthlib>=3.0.0 in c:\\users\\4399-5080\\appdata\\roaming\\python\\python37\\site-packages (from requests-oauthlib>=0.7.0->google-auth-oauthlib<0.5,>=0.4.1->tensorboard>=2.4.1->-r requirements.txt (line 15)) (3.2.0)\n",
      "Building wheels for collected packages: pycocotools\n",
      "  Building wheel for pycocotools (PEP 517): started\n",
      "  Building wheel for pycocotools (PEP 517): finished with status 'error'\n",
      "Failed to build pycocotools\n",
      "Note: you may need to restart the kernel to use updated packages.\n"
     ]
    },
    {
     "name": "stderr",
     "output_type": "stream",
     "text": [
      "  ERROR: Command errored out with exit status 1:\n",
      "   command: 'd:\\soft\\anaconda3\\envs\\network\\python.exe' 'd:\\soft\\anaconda3\\envs\\network\\lib\\site-packages\\pip\\_vendor\\pep517\\in_process\\_in_process.py' build_wheel 'C:\\Users\\4399-5~1\\AppData\\Local\\Temp\\tmpx3i6e9vf'\n",
      "       cwd: C:\\Users\\4399-5~1\\AppData\\Local\\Temp\\pip-install-4enfyq_e\\pycocotools_58045387e33049ecb3aada8b64400dff\n",
      "  Complete output (14 lines):\n",
      "  running bdist_wheel\n",
      "  running build\n",
      "  running build_py\n",
      "  creating build\n",
      "  creating build\\lib.win-amd64-cpython-37\n",
      "  creating build\\lib.win-amd64-cpython-37\\pycocotools\n",
      "  copying pycocotools\\coco.py -> build\\lib.win-amd64-cpython-37\\pycocotools\n",
      "  copying pycocotools\\cocoeval.py -> build\\lib.win-amd64-cpython-37\\pycocotools\n",
      "  copying pycocotools\\mask.py -> build\\lib.win-amd64-cpython-37\\pycocotools\n",
      "  copying pycocotools\\__init__.py -> build\\lib.win-amd64-cpython-37\\pycocotools\n",
      "  running build_ext\n",
      "  skipping 'pycocotools\\_mask.c' Cython extension (up-to-date)\n",
      "  building 'pycocotools._mask' extension\n",
      "  error: Microsoft Visual C++ 14.0 or greater is required. Get it with \"Microsoft C++ Build Tools\": https://visualstudio.microsoft.com/visual-cpp-build-tools/\n",
      "  ----------------------------------------\n",
      "  ERROR: Failed building wheel for pycocotools\n",
      "ERROR: Could not build wheels for pycocotools which use PEP 517 and cannot be installed directly\n"
     ]
    }
   ],
   "source": [
    "pip install -r requirements.txt"
   ]
  },
  {
   "cell_type": "code",
   "execution_count": 7,
   "metadata": {},
   "outputs": [
    {
     "name": "stdout",
     "output_type": "stream",
     "text": [
      "You pressed sign in\n",
      "You pressed sign in\n",
      "Jump to main window\n",
      "Namespace(agnostic_nms=False, augment=False, classes=None, conf_thres=0.25, device='cpu', exist_ok=False, img_size=640, iou_thres=0.45, name='exp', nosave=False, project='runs/detect', save_conf=False, save_txt=False, source='data/images', update=False, view_img=False, weights='weights/yolov5s.pt')\n",
      "Fusing layers... \n",
      "model initial done\n"
     ]
    }
   ],
   "source": [
    "!python main_logic.py"
   ]
  },
  {
   "cell_type": "code",
   "execution_count": null,
   "metadata": {},
   "outputs": [],
   "source": []
  }
 ],
 "metadata": {
  "kernelspec": {
   "display_name": "Python 3.7.13 ('network')",
   "language": "python",
   "name": "python3"
  },
  "language_info": {
   "codemirror_mode": {
    "name": "ipython",
    "version": 3
   },
   "file_extension": ".py",
   "mimetype": "text/x-python",
   "name": "python",
   "nbconvert_exporter": "python",
   "pygments_lexer": "ipython3",
   "version": "3.7.13"
  },
  "orig_nbformat": 4,
  "vscode": {
   "interpreter": {
    "hash": "215e5842a3118c4416568ff882d7764b9771aac049493be6b27fdc23278f4506"
   }
  }
 },
 "nbformat": 4,
 "nbformat_minor": 2
}
